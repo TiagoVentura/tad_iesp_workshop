{
 "cells": [
  {
   "cell_type": "markdown",
   "metadata": {},
   "source": [
    "# Word vectors"
   ]
  },
  {
   "cell_type": "markdown",
   "metadata": {},
   "source": [
    "## Introduction\n",
    "\n",
    "In this notebook, we will cover:\n",
    "\n",
    "- Working with pre-trained word embeddings \n",
    "\n",
    "- Understanding some applications of working embeddings\n",
    "\n",
    "- Training word embeddings from co-occurence matrices.\n",
    "\n",
    "This notebook borrows from multiple sources. But most of these materials are inspired/borrowd from the [Stanford\n",
    "CS224N: Natural Language Processing with Deep Learning\n",
    "](https://web.stanford.edu/class/cs224n/)"
   ]
  },
  {
   "cell_type": "markdown",
   "metadata": {},
   "source": [
    "## Pre-Trained Word Embeddings with Gensim"
   ]
  },
  {
   "cell_type": "markdown",
   "metadata": {},
   "source": [
    "For looking at word vectors, We will use Gensim. Gensim is an open source python library for natural language processing.  Gensim isn't really a deep learning package. It's a package for word and text similarity modeling, which started with (LDA-style) topic models and grew into SVD and neural word representations. But its efficient and scalable, and quite widely used.\n",
    "\n",
    "Gensim allow you to either easily train word embeddings via word2vec algorithms, or retrieve pre-trained word embeddings. Gensim provides a library of several sets of word vectors that you can easily load. Here we will work the Glove Embeddings. \n",
    "\n",
    "\n",
    "### Glove. \n",
    "\n",
    "GloVe, which stands for Global Vectors for Word Representation, is a method created by Pennington and colleagues at Stanford as an improvement on word2vec for learning word embeddings. It’s an unsupervised model that builds word vectors by looking at how often words appear together across an entire text corpus. By using this global co-occurrence information, GloVe produces word vectors that capture interesting relationships and patterns in the vector space.\n",
    "\n",
    "What makes GloVe unique is that it combines ideas from two approaches: the global perspective of methods like Latent Semantic Analysis (LSA), which rely on matrix factorization, and the local context-based training of word2vec. Instead of just using a sliding window to learn from nearby words, GloVe explicitly constructs a word co-occurrence matrix that reflects word pair frequencies in the whole dataset.\n",
    "\n",
    "For a detailed explanation, see the original paper by Jeffrey Pennington, Richard Socher, and Christopher D. Manning (2014): GloVe: Global Vectors for Word Representation.(https://nlp.stanford.edu/projects/glove/)\n"
   ]
  },
  {
   "cell_type": "code",
   "execution_count": 2,
   "metadata": {},
   "outputs": [],
   "source": [
    "import numpy as np\n",
    "\n",
    "# Get the interactive Tools for Matplotlib\n",
    "# %matplotlib notebook\n",
    "%matplotlib inline\n",
    "import matplotlib.pyplot as plt\n",
    "plt.style.use('ggplot')\n",
    "\n",
    "# PCA\n",
    "from sklearn.decomposition import PCA\n",
    "\n",
    "# Gensim\n",
    "import gensim.downloader as api\n",
    "from gensim.models import KeyedVectors"
   ]
  },
  {
   "cell_type": "markdown",
   "metadata": {},
   "source": [
    "#### Loading Glove Embeddings"
   ]
  },
  {
   "cell_type": "code",
   "execution_count": 3,
   "metadata": {},
   "outputs": [
    {
     "name": "stdout",
     "output_type": "stream",
     "text": [
      "<class 'gensim.models.keyedvectors.KeyedVectors'>\n"
     ]
    }
   ],
   "source": [
    "model = api.load(\"glove-wiki-gigaword-100\")\n",
    "print(type(model))"
   ]
  },
  {
   "cell_type": "code",
   "execution_count": 5,
   "metadata": {},
   "outputs": [],
   "source": [
    "# what is this exactly? Check the dimensions. \n",
    "\n",
    "# Extract vocabulary size and embedding dimension\n",
    "vocab_size = len(model)\n",
    "embedding_dim = model.vector_size\n",
    "\n",
    "# Build the matrix (rows = vocab, columns = embedding dim)\n",
    "embedding_matrix = np.zeros((vocab_size, embedding_dim))\n",
    "\n",
    "# Fill the matrix\n",
    "for i, word in enumerate(model.index_to_key):\n",
    "    embedding_matrix[i] = model[word]"
   ]
  },
  {
   "cell_type": "code",
   "execution_count": 6,
   "metadata": {},
   "outputs": [
    {
     "name": "stdout",
     "output_type": "stream",
     "text": [
      "(400000, 100)\n"
     ]
    }
   ],
   "source": [
    "# see dimensions    \n",
    "print(embedding_matrix.shape)"
   ]
  },
  {
   "cell_type": "code",
   "execution_count": 7,
   "metadata": {},
   "outputs": [
    {
     "data": {
      "text/plain": [
       "array([[-0.14401001,  0.32554001,  0.14257   , ...,  0.25398001,\n",
       "         1.10780001, -0.073074  ],\n",
       "       [-1.25569999,  0.61036003,  0.56792998, ..., -1.58770001,\n",
       "         0.76984   , -0.64998001],\n",
       "       [-0.093337  ,  0.19043   ,  0.68457001, ..., -0.68175   ,\n",
       "         0.28804001,  0.54892999],\n",
       "       ...,\n",
       "       [ 0.36087999, -0.16919   , -0.32703999, ...,  0.27138999,\n",
       "        -0.29188001,  0.16109   ],\n",
       "       [-0.10461   , -0.50470001, -0.49331   , ...,  0.42526999,\n",
       "        -0.51249999, -0.17054   ],\n",
       "       [ 0.28365001, -0.62629998, -0.44351   , ...,  0.43678001,\n",
       "        -0.82607001, -0.15701   ]])"
      ]
     },
     "execution_count": 7,
     "metadata": {},
     "output_type": "execute_result"
    }
   ],
   "source": [
    "## see what it looks like\n",
    "embedding_matrix[10:]\n"
   ]
  },
  {
   "cell_type": "markdown",
   "metadata": {},
   "source": [
    "#### Check the vectors for some words"
   ]
  },
  {
   "cell_type": "code",
   "execution_count": 8,
   "metadata": {
    "scrolled": true
   },
   "outputs": [
    {
     "data": {
      "text/plain": [
       "array([-0.66146  ,  0.94335  , -0.72214  ,  0.17403  , -0.42524  ,\n",
       "        0.36303  ,  1.0135   , -0.14802  ,  0.25817  , -0.20326  ,\n",
       "       -0.64338  ,  0.16632  ,  0.61518  ,  1.397    , -0.094506 ,\n",
       "        0.0041843, -0.18976  , -0.55421  , -0.39371  , -0.22501  ,\n",
       "       -0.34643  ,  0.32076  ,  0.34395  , -0.7034   ,  0.23932  ,\n",
       "        0.69951  , -0.16461  , -0.31819  , -0.34034  , -0.44906  ,\n",
       "       -0.069667 ,  0.35348  ,  0.17498  , -0.95057  , -0.2209   ,\n",
       "        1.0647   ,  0.23231  ,  0.32569  ,  0.47662  , -1.1206   ,\n",
       "        0.28168  , -0.75172  , -0.54654  , -0.66337  ,  0.34804  ,\n",
       "       -0.69058  , -0.77092  , -0.40167  , -0.069351 , -0.049238 ,\n",
       "       -0.39351  ,  0.16735  , -0.14512  ,  1.0083   , -1.0608   ,\n",
       "       -0.87314  , -0.29339  ,  0.68278  ,  0.61634  , -0.088844 ,\n",
       "        0.88094  ,  0.099809 , -0.27161  , -0.58026  ,  0.50364  ,\n",
       "       -0.93814  ,  0.67576  , -0.43124  , -0.10517  , -1.2404   ,\n",
       "       -0.74353  ,  0.28637  ,  0.29012  ,  0.89377  ,  0.67406  ,\n",
       "        0.86422  , -0.30693  , -0.14718  ,  0.078353 ,  0.74013  ,\n",
       "        0.32658  , -0.052579 , -1.1665   ,  0.87079  , -0.69402  ,\n",
       "       -0.75977  , -0.37164  , -0.11887  ,  0.18551  ,  0.041883 ,\n",
       "        0.59352  ,  0.30519  , -0.54819  , -0.29424  , -1.4912   ,\n",
       "       -1.6548   ,  0.98982  ,  0.27325  ,  1.009    ,  0.94544  ],\n",
       "      dtype=float32)"
      ]
     },
     "execution_count": 8,
     "metadata": {},
     "output_type": "execute_result"
    }
   ],
   "source": [
    "# check some words\n",
    "model['bread']"
   ]
  },
  {
   "cell_type": "code",
   "execution_count": 9,
   "metadata": {},
   "outputs": [
    {
     "data": {
      "text/plain": [
       "array([-0.25144  ,  0.52157  , -0.75452  ,  0.28039  , -0.31388  ,\n",
       "        0.274    ,  1.1971   , -0.10519  ,  0.82544  , -0.33398  ,\n",
       "       -0.21417  ,  0.22216  ,  0.14982  ,  0.47384  ,  0.41984  ,\n",
       "        0.69397  , -0.25999  , -0.44414  ,  0.58296  , -0.30851  ,\n",
       "       -0.076455 ,  0.33468  ,  0.28055  , -0.99012  ,  0.30349  ,\n",
       "        0.39128  ,  0.031526 , -0.095395 , -0.004745 , -0.81347  ,\n",
       "        0.27869  , -0.1812   ,  0.14632  , -0.42186  ,  0.13857  ,\n",
       "        1.139    ,  0.14925  , -0.051459 ,  0.37875  , -0.2613   ,\n",
       "        0.011081 , -0.28881  , -0.38662  , -0.3135   , -0.1954   ,\n",
       "        0.19248  , -0.52995  , -0.40674  , -0.25159  ,  0.06272  ,\n",
       "       -0.32724  ,  0.28374  , -0.2155   , -0.061832 , -0.50134  ,\n",
       "        0.0093959,  0.30715  ,  0.3873   , -0.74554  , -0.45947  ,\n",
       "        0.40032  , -0.1378   , -0.26968  , -0.3946   , -0.64876  ,\n",
       "       -0.47149  , -0.085536 ,  0.092795 , -0.034018 , -0.61906  ,\n",
       "        0.19123  ,  0.20563  ,  0.29056  , -0.010908 ,  0.15313  ,\n",
       "        0.33144  ,  0.33806  ,  0.061708 ,  0.20785  ,  0.65348  ,\n",
       "       -0.053222 ,  0.18589  ,  0.32647  , -0.11923  ,  0.42008  ,\n",
       "       -0.26931  ,  0.025489 ,  0.0036535,  0.1327   , -0.22763  ,\n",
       "        0.07564  ,  0.55773  ,  0.2978   ,  0.28144  ,  0.19775  ,\n",
       "       -0.23582  ,  0.65303  ,  0.089897 ,  0.35844  ,  0.14304  ],\n",
       "      dtype=float32)"
      ]
     },
     "execution_count": 9,
     "metadata": {},
     "output_type": "execute_result"
    }
   ],
   "source": [
    "model['croissant']"
   ]
  },
  {
   "cell_type": "markdown",
   "metadata": {},
   "source": [
    "#### Similarity\n",
    "\n",
    "Gensim has several pre-built functions to work with word vectors. For example, we can easily calculate the similarity between words "
   ]
  },
  {
   "cell_type": "code",
   "execution_count": 10,
   "metadata": {},
   "outputs": [
    {
     "data": {
      "text/plain": [
       "[('canada', 0.6544384360313416),\n",
       " ('america', 0.645224392414093),\n",
       " ('u.s.a.', 0.6184033155441284),\n",
       " ('united', 0.6017189621925354),\n",
       " ('states', 0.5970699191093445),\n",
       " ('australia', 0.5838716626167297),\n",
       " ('world', 0.5590084791183472),\n",
       " ('2010', 0.5580702424049377),\n",
       " ('2012', 0.5504006743431091),\n",
       " ('davis', 0.5464468002319336)]"
      ]
     },
     "execution_count": 10,
     "metadata": {},
     "output_type": "execute_result"
    }
   ],
   "source": [
    "model.most_similar('usa')"
   ]
  },
  {
   "cell_type": "code",
   "execution_count": 11,
   "metadata": {
    "scrolled": true
   },
   "outputs": [
    {
     "data": {
      "text/plain": [
       "[('coconut', 0.7097253203392029),\n",
       " ('mango', 0.7054824829101562),\n",
       " ('bananas', 0.6887733936309814),\n",
       " ('potato', 0.6629636883735657),\n",
       " ('pineapple', 0.6534532308578491),\n",
       " ('fruit', 0.6519854664802551),\n",
       " ('peanut', 0.6420576572418213),\n",
       " ('pecan', 0.6349173784255981),\n",
       " ('cashew', 0.6294420957565308),\n",
       " ('papaya', 0.6246591210365295)]"
      ]
     },
     "execution_count": 11,
     "metadata": {},
     "output_type": "execute_result"
    }
   ],
   "source": [
    "model.most_similar('banana')"
   ]
  },
  {
   "cell_type": "code",
   "execution_count": 12,
   "metadata": {},
   "outputs": [
    {
     "data": {
      "text/plain": [
       "[('croissants', 0.6829844117164612),\n",
       " ('brioche', 0.6283303499221802),\n",
       " ('baguette', 0.5968102812767029),\n",
       " ('focaccia', 0.5876684784889221),\n",
       " ('pudding', 0.5803956389427185),\n",
       " ('souffle', 0.5614769458770752),\n",
       " ('baguettes', 0.5558240413665771),\n",
       " ('tortilla', 0.5449503064155579),\n",
       " ('pastries', 0.5427731275558472),\n",
       " ('calzone', 0.5374532341957092)]"
      ]
     },
     "execution_count": 12,
     "metadata": {},
     "output_type": "execute_result"
    }
   ],
   "source": [
    "model.most_similar('croissant')"
   ]
  },
  {
   "cell_type": "markdown",
   "metadata": {},
   "source": [
    "#### Most distinct words"
   ]
  },
  {
   "cell_type": "code",
   "execution_count": 13,
   "metadata": {},
   "outputs": [
    {
     "data": {
      "text/plain": [
       "[('shunichi', 0.49618107080459595),\n",
       " ('ieronymos', 0.4736502468585968),\n",
       " ('pengrowth', 0.4668096601963043),\n",
       " ('höss', 0.4636845886707306),\n",
       " ('damaskinos', 0.4617849290370941),\n",
       " ('yadin', 0.4617374837398529),\n",
       " ('hundertwasser', 0.458895742893219),\n",
       " ('ncpa', 0.4577338993549347),\n",
       " ('maccormac', 0.4566109776496887),\n",
       " ('rothfeld', 0.4523947238922119)]"
      ]
     },
     "execution_count": 13,
     "metadata": {},
     "output_type": "execute_result"
    }
   ],
   "source": [
    "model.most_similar(negative='banana')"
   ]
  },
  {
   "cell_type": "markdown",
   "metadata": {},
   "source": [
    "#### Words Geometry\n",
    "\n",
    "Word vectors allow operation across words.This is what is called vector arithmetic. "
   ]
  },
  {
   "cell_type": "code",
   "execution_count": 16,
   "metadata": {},
   "outputs": [
    {
     "name": "stdout",
     "output_type": "stream",
     "text": [
      "queen: 0.7699\n"
     ]
    }
   ],
   "source": [
    "result = model.most_similar(positive=['woman', 'king'], negative=['man'])\n",
    "print(\"{}: {:.4f}\".format(*result[0]))"
   ]
  },
  {
   "cell_type": "markdown",
   "metadata": {},
   "source": [
    "**What’s happening?**\n",
    "\n",
    "The model.most_similar() function finds words that are closest (in vector space) to the combination you specify.\n",
    "\n",
    "Here you’re giving it:\n",
    "\n",
    "Positive words: ['woman', 'king']\n",
    "\n",
    "Negative words: ['man']\n",
    "\n",
    "**Vector Operations**\n",
    "\n",
    "\n",
    "output= (vector for ’woman’ ) + (vector for ’king’ ) − ( vector for ’man’ )"
   ]
  },
  {
   "cell_type": "code",
   "execution_count": 14,
   "metadata": {},
   "outputs": [],
   "source": [
    "# write a function\n",
    "def analogy(x1, x2, y1):\n",
    "    result = model.most_similar(positive=[y1, x2], negative=[x1])\n",
    "    return result[0][0]"
   ]
  },
  {
   "cell_type": "code",
   "execution_count": 15,
   "metadata": {},
   "outputs": [
    {
     "data": {
      "text/plain": [
       "'queen'"
      ]
     },
     "execution_count": 15,
     "metadata": {},
     "output_type": "execute_result"
    }
   ],
   "source": [
    "analogy('man', 'king', 'woman')"
   ]
  },
  {
   "cell_type": "code",
   "execution_count": 16,
   "metadata": {},
   "outputs": [
    {
     "data": {
      "text/plain": [
       "'champagne'"
      ]
     },
     "execution_count": 16,
     "metadata": {},
     "output_type": "execute_result"
    }
   ],
   "source": [
    "analogy('australia', 'beer', 'france')"
   ]
  },
  {
   "cell_type": "code",
   "execution_count": 17,
   "metadata": {},
   "outputs": [
    {
     "data": {
      "text/plain": [
       "'photographing'"
      ]
     },
     "execution_count": 17,
     "metadata": {},
     "output_type": "execute_result"
    }
   ],
   "source": [
    "analogy('pencil', 'sketching', 'camera')"
   ]
  },
  {
   "cell_type": "markdown",
   "metadata": {},
   "source": [
    "### Application: The Geometry of Culture: Analyzing the Meanings of Class through Word Embeddings\n",
    "\n",
    "This simple analogy between word vectors is the core of the method developed in the paper \"The Geometry of Culture\". The idea here is to build a new vector with positive and negative words, and then project new words over this cultural vector. \n",
    "\n",
    "Let's see in code: "
   ]
  },
  {
   "cell_type": "code",
   "execution_count": 28,
   "metadata": {},
   "outputs": [
    {
     "name": "stdout",
     "output_type": "stream",
     "text": [
      "[-0.1328     0.92261    0.93544   -0.63118    0.50402   -0.30338\n",
      " -0.55406    0.071319  -0.13877    0.11294   -0.30848   -0.35173\n",
      "  0.27514   -0.015935  -0.19586   -0.26719    0.1023    -1.127\n",
      " -0.35836    0.80409   -0.12859    0.15648    0.57618   -0.21437\n",
      " -0.029065   0.49854   -0.27588   -0.051191  -0.23875    0.24421\n",
      "  0.22476    0.070125   0.50378   -1.1223     0.4764    -0.06986\n",
      " -0.027617   0.7853    -0.68022   -0.036379   0.37911   -0.93087\n",
      " -0.011035  -0.082644  -0.27459    0.09938   -0.26818    0.29252\n",
      "  0.62947   -0.22741   -0.6275     0.031109  -0.054661   0.16065\n",
      " -0.38845   -1.9376    -0.10413   -0.64834    1.4837    -0.13894\n",
      " -0.049802   0.55547   -0.21925   -0.90887    1.4822    -0.6478\n",
      "  1.1769     0.1142     0.33713   -0.7661     0.37561    0.0037597\n",
      " -0.28029    0.12944   -0.17194   -0.10839   -0.13159   -0.7647\n",
      " -0.17149    0.98379    0.83413    0.53028   -0.46108   -0.59009\n",
      " -0.24216    0.18024   -0.28845   -0.40467   -0.65468   -0.79142\n",
      "  0.33132   -0.52434   -0.26786   -0.53644   -1.1112     0.29879\n",
      " -0.9842    -0.70996   -0.50225    0.21959  ]\n"
     ]
    }
   ],
   "source": [
    "# step 1: define words that identify lower and upper class\n",
    "upper_class = ['rich', 'manager', 'elite', 'capitalist']\n",
    "lower_class = ['poor', 'worker', 'laborer', 'socialist']\n",
    "\n",
    "# Retrieve the vectors of these words\n",
    "upper_vecs = np.array([model[w] for w in upper_class])\n",
    "lower_vecs = np.array([model[w] for w in lower_class])\n",
    "\n",
    "# visualize\n",
    "print(upper_vecs[0])"
   ]
  },
  {
   "cell_type": "code",
   "execution_count": null,
   "metadata": {},
   "outputs": [],
   "source": [
    "### Step 2: Average, Take the Difference, and Normalize the Vector\n",
    "upper_mean = np.mean(upper_vecs, axis=0)\n",
    "lower_mean = np.mean(lower_vecs, axis=0)\n",
    "\n",
    "## Difference\n",
    "class_vector = upper_mean - lower_mean\n",
    "\n",
    "## normalize the vectors\n",
    "class_vector = class_vector / np.linalg.norm(class_vector)"
   ]
  },
  {
   "cell_type": "code",
   "execution_count": 33,
   "metadata": {},
   "outputs": [],
   "source": [
    "### Step 3: projecting words in the class vectors\n",
    "\n",
    "## Select some occupations\n",
    "occupations = ['teacher', 'lawyer', 'janitor', 'nurse',\n",
    "                'engineer', 'ceo', 'manager', 'cashier',\n",
    "                'doctor', 'mechanic', 'bartender', 'professor',\n",
    "                'farmer']\n",
    "\n",
    "# build an empty list for the projection\n",
    "projections = []\n",
    "\n",
    "for job in occupations:\n",
    "    job_vec = model[job]\n",
    "    # projection - equal to a cosine similarity because we normalized the vectors\n",
    "    proj = np.dot(job_vec, class_vector)\n",
    "    projections.append((job, proj))\n",
    "\n",
    "# Sort\n",
    "projections.sort(key=lambda x: x[1])"
   ]
  },
  {
   "cell_type": "code",
   "execution_count": 47,
   "metadata": {},
   "outputs": [
    {
     "name": "stderr",
     "output_type": "stream",
     "text": [
      "/Users/tb186/anaconda3/envs/cs224n/lib/python3.12/site-packages/plotnine/_mpl/utils.py:23: UserWarning: Glyph 8594 (\\N{RIGHTWARDS ARROW}) missing from font(s) Helvetica.\n",
      "/Users/tb186/anaconda3/envs/cs224n/lib/python3.12/site-packages/plotnine/ggplot.py:687: UserWarning: Glyph 8594 (\\N{RIGHTWARDS ARROW}) missing from font(s) Helvetica.\n"
     ]
    },
    {
     "data": {
      "image/png": "[encoded data removed]"
     },
     "metadata": {
      "image/png": {
       "height": 600,
       "width": 1000
      }
     },
     "output_type": "display_data"
    }
   ],
   "source": [
    "## plot\n",
    "from plotnine import *\n",
    "import pandas as pd\n",
    "\n",
    "\n",
    "# build a datafram\n",
    "df = pd.DataFrame(projections, columns=['job', 'projection'])\n",
    "\n",
    "# sort\n",
    "df = df.sort_values('projection')\n",
    "\n",
    "# plots\n",
    "\n",
    "p = (\n",
    "    ggplot(df, aes(y='projection', x='job'))  # x is projection, y is job\n",
    "    + geom_col(fill='red')\n",
    "    + geom_vline(xintercept=0, linetype='dashed', color='black')\n",
    "    + labs(\n",
    "        title='Occupation Projected on Class',\n",
    "        x='Cosine similarity: upper-class → lower-class',\n",
    "        y=''\n",
    "    )\n",
    "    + theme_minimal()\n",
    "    + theme(\n",
    "        figure_size=(10, 6),\n",
    "        axis_title_x=element_text(size=12),\n",
    "        axis_title_y=element_text(size=12),\n",
    "        plot_title=element_text(weight='bold', size=14),\n",
    "    ) +\n",
    "    coord_flip()\n",
    ")\n",
    "\n",
    "p"
   ]
  }
 ],
 "metadata": {
  "kernelspec": {
   "display_name": "cs224n",
   "language": "python",
   "name": "cs224n"
  },
  "language_info": {
   "codemirror_mode": {
    "name": "ipython",
    "version": 3
   },
   "file_extension": ".py",
   "mimetype": "text/x-python",
   "name": "python",
   "nbconvert_exporter": "python",
   "pygments_lexer": "ipython3",
   "version": "3.12.11"
  }
 },
 "nbformat": 4,
 "nbformat_minor": 4
}
